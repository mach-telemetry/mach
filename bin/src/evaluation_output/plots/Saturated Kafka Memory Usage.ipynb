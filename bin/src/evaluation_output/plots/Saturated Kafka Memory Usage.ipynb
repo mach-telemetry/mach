{
 "cells": [
  {
   "cell_type": "code",
   "execution_count": 110,
   "id": "8bf7e75c",
   "metadata": {},
   "outputs": [],
   "source": [
    "import pandas as pd\n",
    "import math\n",
    "import matplotlib.gridspec as gridspec\n",
    "import matplotlib.pyplot as plt\n",
    "import matplotlib.patches as mpatches\n",
    "colors = plt.rcParams['axes.prop_cycle'].by_key()['color']\n",
    "data = pd.read_csv(\"mem_usage.csv\")"
   ]
  },
  {
   "cell_type": "code",
   "execution_count": 65,
   "id": "c4c648b7",
   "metadata": {},
   "outputs": [],
   "source": [
    "time = data[\"Time (seconds)\"]\n",
    "load = data[\"Load (samples/sec)\"]\n",
    "mach_mem = data[\"Mach mem usage\"]\n",
    "kafka_mem = data[\"Kafka mem usage\"]"
   ]
  },
  {
   "cell_type": "code",
   "execution_count": 66,
   "id": "3fae0e0c",
   "metadata": {},
   "outputs": [],
   "source": [
    "# convert mem usage to megabytes\n",
    "\n",
    "def bytes_to_megabytes(lst):\n",
    "    for i in range(0, len(lst)):\n",
    "        lst.at[i] = lst[i] / 1_000_000\n",
    "\n",
    "bytes_to_megabytes(mach_mem)\n",
    "bytes_to_megabytes(kafka_mem)"
   ]
  },
  {
   "cell_type": "code",
   "execution_count": 67,
   "id": "ef0046da",
   "metadata": {},
   "outputs": [
    {
     "data": {
      "text/html": [
       "<div>\n",
       "<style scoped>\n",
       "    .dataframe tbody tr th:only-of-type {\n",
       "        vertical-align: middle;\n",
       "    }\n",
       "\n",
       "    .dataframe tbody tr th {\n",
       "        vertical-align: top;\n",
       "    }\n",
       "\n",
       "    .dataframe thead th {\n",
       "        text-align: right;\n",
       "    }\n",
       "</style>\n",
       "<table border=\"1\" class=\"dataframe\">\n",
       "  <thead>\n",
       "    <tr style=\"text-align: right;\">\n",
       "      <th></th>\n",
       "      <th>Time (seconds)</th>\n",
       "      <th>Load (samples/sec)</th>\n",
       "      <th>Mach mem usage</th>\n",
       "      <th>Kafka mem usage</th>\n",
       "    </tr>\n",
       "  </thead>\n",
       "  <tbody>\n",
       "    <tr>\n",
       "      <th>0</th>\n",
       "      <td>0</td>\n",
       "      <td>200000</td>\n",
       "      <td>0.000000</td>\n",
       "      <td>0.716584</td>\n",
       "    </tr>\n",
       "    <tr>\n",
       "      <th>1</th>\n",
       "      <td>1</td>\n",
       "      <td>200000</td>\n",
       "      <td>0.000000</td>\n",
       "      <td>9.115528</td>\n",
       "    </tr>\n",
       "    <tr>\n",
       "      <th>2</th>\n",
       "      <td>2</td>\n",
       "      <td>200000</td>\n",
       "      <td>0.000000</td>\n",
       "      <td>5.016692</td>\n",
       "    </tr>\n",
       "    <tr>\n",
       "      <th>3</th>\n",
       "      <td>3</td>\n",
       "      <td>200000</td>\n",
       "      <td>1.000160</td>\n",
       "      <td>5.016692</td>\n",
       "    </tr>\n",
       "    <tr>\n",
       "      <th>4</th>\n",
       "      <td>4</td>\n",
       "      <td>200000</td>\n",
       "      <td>0.000000</td>\n",
       "      <td>4.508081</td>\n",
       "    </tr>\n",
       "    <tr>\n",
       "      <th>...</th>\n",
       "      <td>...</td>\n",
       "      <td>...</td>\n",
       "      <td>...</td>\n",
       "      <td>...</td>\n",
       "    </tr>\n",
       "    <tr>\n",
       "      <th>1534</th>\n",
       "      <td>1534</td>\n",
       "      <td>200000</td>\n",
       "      <td>0.000000</td>\n",
       "      <td>NaN</td>\n",
       "    </tr>\n",
       "    <tr>\n",
       "      <th>1535</th>\n",
       "      <td>1535</td>\n",
       "      <td>200000</td>\n",
       "      <td>17.225167</td>\n",
       "      <td>NaN</td>\n",
       "    </tr>\n",
       "    <tr>\n",
       "      <th>1536</th>\n",
       "      <td>1536</td>\n",
       "      <td>200000</td>\n",
       "      <td>0.000000</td>\n",
       "      <td>NaN</td>\n",
       "    </tr>\n",
       "    <tr>\n",
       "      <th>1537</th>\n",
       "      <td>1537</td>\n",
       "      <td>200000</td>\n",
       "      <td>0.000000</td>\n",
       "      <td>NaN</td>\n",
       "    </tr>\n",
       "    <tr>\n",
       "      <th>1538</th>\n",
       "      <td>1538</td>\n",
       "      <td>200000</td>\n",
       "      <td>0.000000</td>\n",
       "      <td>NaN</td>\n",
       "    </tr>\n",
       "  </tbody>\n",
       "</table>\n",
       "<p>1539 rows × 4 columns</p>\n",
       "</div>"
      ],
      "text/plain": [
       "      Time (seconds)  Load (samples/sec)  Mach mem usage  Kafka mem usage\n",
       "0                  0              200000        0.000000         0.716584\n",
       "1                  1              200000        0.000000         9.115528\n",
       "2                  2              200000        0.000000         5.016692\n",
       "3                  3              200000        1.000160         5.016692\n",
       "4                  4              200000        0.000000         4.508081\n",
       "...              ...                 ...             ...              ...\n",
       "1534            1534              200000        0.000000              NaN\n",
       "1535            1535              200000       17.225167              NaN\n",
       "1536            1536              200000        0.000000              NaN\n",
       "1537            1537              200000        0.000000              NaN\n",
       "1538            1538              200000        0.000000              NaN\n",
       "\n",
       "[1539 rows x 4 columns]"
      ]
     },
     "execution_count": 67,
     "metadata": {},
     "output_type": "execute_result"
    }
   ],
   "source": [
    "data"
   ]
  },
  {
   "cell_type": "code",
   "execution_count": 102,
   "id": "1e785bdb",
   "metadata": {},
   "outputs": [],
   "source": [
    "max_mem_usage = max(max(mach_mem), max(kafka_mem))"
   ]
  },
  {
   "cell_type": "code",
   "execution_count": 111,
   "id": "28f8abb6",
   "metadata": {},
   "outputs": [
    {
     "data": {
      "image/png": "[encoded data removed]",
      "text/plain": [
       "<Figure size 640x480 with 1 Axes>"
      ]
     },
     "metadata": {},
     "output_type": "display_data"
    },
    {
     "name": "stdout",
     "output_type": "stream",
     "text": [
      "5000\n"
     ]
    }
   ],
   "source": [
    "fig, ax = plt.subplots()\n",
    "ax.set_xticks([])\n",
    "ax.set_yticks([0, 1000, 2000, 3000, 4000, 5000])\n",
    "ax.set_ylabel(\"Memory usage (MB)\")\n",
    "\n",
    "spike_begin = load.loc[load.eq(max(load))].index[0]\n",
    "spike_end = load[spike_begin:].loc[load.eq(min(load))].index[0] - 1\n",
    "\n",
    "plot_ylim = math.ceil(max_mem_usage / 1000) * 1000\n",
    "\n",
    "ax.plot(time, mach_mem, label=\"Mach\", color=\"tab:green\")\n",
    "ax.plot(time, kafka_mem, label=\"Kafka + BTrees\", color=\"tab:orange\")\n",
    "ax.axvspan(spike_begin, spike_end, facecolor=\"lightgrey\")\n",
    "\n",
    "plt.ylim([0, 5000])\n",
    "plt.legend()\n",
    "plt.show()\n",
    "print(plot_ylim)"
   ]
  },
  {
   "cell_type": "code",
   "execution_count": null,
   "id": "7eaafce0",
   "metadata": {},
   "outputs": [],
   "source": []
  }
 ],
 "metadata": {
  "kernelspec": {
   "display_name": "Python 3 (ipykernel)",
   "language": "python",
   "name": "python3"
  },
  "language_info": {
   "codemirror_mode": {
    "name": "ipython",
    "version": 3
   },
   "file_extension": ".py",
   "mimetype": "text/x-python",
   "name": "python",
   "nbconvert_exporter": "python",
   "pygments_lexer": "ipython3",
   "version": "3.9.12"
  }
 },
 "nbformat": 4,
 "nbformat_minor": 5
}
