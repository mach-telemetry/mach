{
 "cells": [
  {
   "cell_type": "code",
   "execution_count": 121,
   "id": "38f942ab",
   "metadata": {},
   "outputs": [],
   "source": [
    "import pandas as pd\n",
    "import math\n",
    "import matplotlib.gridspec as gridspec\n",
    "import matplotlib.pyplot as plt\n",
    "import matplotlib.patches as mpatches\n",
    "colors = plt.rcParams['axes.prop_cycle'].by_key()['color']\n",
    "data = pd.read_csv(\"mem_usage.csv\")"
   ]
  },
  {
   "cell_type": "code",
   "execution_count": 122,
   "id": "7a05ba07",
   "metadata": {},
   "outputs": [],
   "source": [
    "time = data[\"Time\"]\n",
    "load = data[\"Load\"]\n",
    "mach_mem = data[\"Mach mem usage\"]\n",
    "kafka_mem = data[\"Kafka mem usage\"]"
   ]
  },
  {
   "cell_type": "code",
   "execution_count": 123,
   "id": "747c934c",
   "metadata": {},
   "outputs": [],
   "source": [
    "# convert mem usage to megabytes\n",
    "\n",
    "def bytes_to_megabytes(lst):\n",
    "    for i in range(0, len(lst)):\n",
    "        lst.at[i] = lst[i] / 1_000_000\n",
    "\n",
    "bytes_to_megabytes(mach_mem)\n",
    "bytes_to_megabytes(kafka_mem)"
   ]
  },
  {
   "cell_type": "code",
   "execution_count": 124,
   "id": "8720df6b",
   "metadata": {},
   "outputs": [
    {
     "data": {
      "text/html": [
       "<div>\n",
       "<style scoped>\n",
       "    .dataframe tbody tr th:only-of-type {\n",
       "        vertical-align: middle;\n",
       "    }\n",
       "\n",
       "    .dataframe tbody tr th {\n",
       "        vertical-align: top;\n",
       "    }\n",
       "\n",
       "    .dataframe thead th {\n",
       "        text-align: right;\n",
       "    }\n",
       "</style>\n",
       "<table border=\"1\" class=\"dataframe\">\n",
       "  <thead>\n",
       "    <tr style=\"text-align: right;\">\n",
       "      <th></th>\n",
       "      <th>Time</th>\n",
       "      <th>Load</th>\n",
       "      <th>Mach mem usage</th>\n",
       "      <th>Kafka mem usage</th>\n",
       "    </tr>\n",
       "  </thead>\n",
       "  <tbody>\n",
       "    <tr>\n",
       "      <th>0</th>\n",
       "      <td>0</td>\n",
       "      <td>200000</td>\n",
       "      <td>0.000000</td>\n",
       "      <td>0.434287</td>\n",
       "    </tr>\n",
       "    <tr>\n",
       "      <th>1</th>\n",
       "      <td>1</td>\n",
       "      <td>200000</td>\n",
       "      <td>0.000000</td>\n",
       "      <td>0.512973</td>\n",
       "    </tr>\n",
       "    <tr>\n",
       "      <th>2</th>\n",
       "      <td>2</td>\n",
       "      <td>200000</td>\n",
       "      <td>0.000000</td>\n",
       "      <td>0.512973</td>\n",
       "    </tr>\n",
       "    <tr>\n",
       "      <th>3</th>\n",
       "      <td>3</td>\n",
       "      <td>200000</td>\n",
       "      <td>0.000000</td>\n",
       "      <td>0.512973</td>\n",
       "    </tr>\n",
       "    <tr>\n",
       "      <th>4</th>\n",
       "      <td>4</td>\n",
       "      <td>200000</td>\n",
       "      <td>0.000000</td>\n",
       "      <td>0.582227</td>\n",
       "    </tr>\n",
       "    <tr>\n",
       "      <th>...</th>\n",
       "      <td>...</td>\n",
       "      <td>...</td>\n",
       "      <td>...</td>\n",
       "      <td>...</td>\n",
       "    </tr>\n",
       "    <tr>\n",
       "      <th>1001</th>\n",
       "      <td>1001</td>\n",
       "      <td>200000</td>\n",
       "      <td>0.256641</td>\n",
       "      <td>11.628713</td>\n",
       "    </tr>\n",
       "    <tr>\n",
       "      <th>1002</th>\n",
       "      <td>1002</td>\n",
       "      <td>200000</td>\n",
       "      <td>0.000000</td>\n",
       "      <td>8.953536</td>\n",
       "    </tr>\n",
       "    <tr>\n",
       "      <th>1003</th>\n",
       "      <td>1003</td>\n",
       "      <td>200000</td>\n",
       "      <td>0.000000</td>\n",
       "      <td>7.010331</td>\n",
       "    </tr>\n",
       "    <tr>\n",
       "      <th>1004</th>\n",
       "      <td>1004</td>\n",
       "      <td>200000</td>\n",
       "      <td>0.000000</td>\n",
       "      <td>5.233352</td>\n",
       "    </tr>\n",
       "    <tr>\n",
       "      <th>1005</th>\n",
       "      <td>1005</td>\n",
       "      <td>200000</td>\n",
       "      <td>0.000000</td>\n",
       "      <td>2.996760</td>\n",
       "    </tr>\n",
       "  </tbody>\n",
       "</table>\n",
       "<p>1006 rows × 4 columns</p>\n",
       "</div>"
      ],
      "text/plain": [
       "      Time    Load  Mach mem usage  Kafka mem usage\n",
       "0        0  200000        0.000000         0.434287\n",
       "1        1  200000        0.000000         0.512973\n",
       "2        2  200000        0.000000         0.512973\n",
       "3        3  200000        0.000000         0.512973\n",
       "4        4  200000        0.000000         0.582227\n",
       "...    ...     ...             ...              ...\n",
       "1001  1001  200000        0.256641        11.628713\n",
       "1002  1002  200000        0.000000         8.953536\n",
       "1003  1003  200000        0.000000         7.010331\n",
       "1004  1004  200000        0.000000         5.233352\n",
       "1005  1005  200000        0.000000         2.996760\n",
       "\n",
       "[1006 rows x 4 columns]"
      ]
     },
     "execution_count": 124,
     "metadata": {},
     "output_type": "execute_result"
    }
   ],
   "source": [
    "data"
   ]
  },
  {
   "cell_type": "code",
   "execution_count": 125,
   "id": "7a722539",
   "metadata": {},
   "outputs": [],
   "source": [
    "max_mem_usage = max(max(mach_mem), max(kafka_mem))"
   ]
  },
  {
   "cell_type": "code",
   "execution_count": 134,
   "id": "18c84c43",
   "metadata": {},
   "outputs": [
    {
     "data": {
      "image/png": "[encoded data removed]",
      "text/plain": [
       "<Figure size 640x480 with 1 Axes>"
      ]
     },
     "metadata": {},
     "output_type": "display_data"
    }
   ],
   "source": [
    "fig, ax = plt.subplots()\n",
    "ax.set_xticks([])\n",
    "ax.set_yticks([0, 500, 1000, 1500, 2000, 2500])\n",
    "plt.ylim([0, 2500])\n",
    "ax.set_ylabel(\"Memory usage (MB)\")\n",
    "\n",
    "spike_begin = load.loc[load.eq(max(load))].index[0]\n",
    "spike_end = spike_begin + 300\n",
    "\n",
    "ax.plot(time, mach_mem, label=\"Mach\", color=\"tab:green\")\n",
    "ax.plot(time, kafka_mem, label=\"Kafka + BTrees\", color=\"tab:orange\")\n",
    "ax.axvspan(spike_begin, spike_end, facecolor=\"lightgrey\")\n",
    "\n",
    "\n",
    "handles, labels = ax.get_legend_handles_labels()\n",
    "labels.append(\"Increased Load\")\n",
    "handles.append(mpatches.Patch(color=\"lightgrey\"))\n",
    "ax.legend(handles, labels)\n",
    "\n",
    "\n",
    "plt.show()"
   ]
  },
  {
   "cell_type": "code",
   "execution_count": null,
   "id": "00cb2359",
   "metadata": {},
   "outputs": [],
   "source": []
  }
 ],
 "metadata": {
  "kernelspec": {
   "display_name": "Python 3 (ipykernel)",
   "language": "python",
   "name": "python3"
  },
  "language_info": {
   "codemirror_mode": {
    "name": "ipython",
    "version": 3
   },
   "file_extension": ".py",
   "mimetype": "text/x-python",
   "name": "python",
   "nbconvert_exporter": "python",
   "pygments_lexer": "ipython3",
   "version": "3.8.9"
  }
 },
 "nbformat": 4,
 "nbformat_minor": 5
}
